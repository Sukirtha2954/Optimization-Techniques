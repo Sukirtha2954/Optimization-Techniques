{
 "cells": [
  {
   "cell_type": "code",
   "execution_count": 5,
   "id": "21f009be-f648-49c5-8770-8067088b785b",
   "metadata": {},
   "outputs": [
    {
     "name": "stdout",
     "output_type": "stream",
     "text": [
      "SGD Optimizer - Accuracy: 0.7\n",
      "Adam Optimizer - Accuracy: 0.9666666666666667\n",
      "RMSprop (approximated by Adam) - Accuracy: 0.9\n"
     ]
    },
    {
     "name": "stderr",
     "output_type": "stream",
     "text": [
      "C:\\Users\\Sukirtha\\AppData\\Roaming\\Python\\Python312\\site-packages\\sklearn\\neural_network\\_multilayer_perceptron.py:691: ConvergenceWarning: Stochastic Optimizer: Maximum iterations (10) reached and the optimization hasn't converged yet.\n",
      "  warnings.warn(\n",
      "C:\\Users\\Sukirtha\\AppData\\Roaming\\Python\\Python312\\site-packages\\sklearn\\neural_network\\_multilayer_perceptron.py:691: ConvergenceWarning: Stochastic Optimizer: Maximum iterations (10) reached and the optimization hasn't converged yet.\n",
      "  warnings.warn(\n",
      "C:\\Users\\Sukirtha\\AppData\\Roaming\\Python\\Python312\\site-packages\\sklearn\\neural_network\\_multilayer_perceptron.py:691: ConvergenceWarning: Stochastic Optimizer: Maximum iterations (10) reached and the optimization hasn't converged yet.\n",
      "  warnings.warn(\n"
     ]
    }
   ],
   "source": [
    "from sklearn.datasets import load_iris\n",
    "from sklearn.model_selection import train_test_split\n",
    "from sklearn.preprocessing import StandardScaler\n",
    "from sklearn.neural_network import MLPClassifier\n",
    "from sklearn.metrics import accuracy_score\n",
    "\n",
    "# Load the Iris dataset\n",
    "iris = load_iris()\n",
    "X, y = iris.data, iris.target\n",
    "\n",
    "# Standardize the input features\n",
    "scaler = StandardScaler()\n",
    "X = scaler.fit_transform(X)\n",
    "\n",
    "# Split the dataset into training and testing sets\n",
    "X_train, X_test, y_train, y_test = train_test_split(X, y, test_size=0.2, random_state=42)\n",
    "\n",
    "# Define a function to create and train a model with a given optimizer\n",
    "def train_model(optimizer, X_train, y_train, X_test, y_test):\n",
    "    model = MLPClassifier(hidden_layer_sizes=(64, 32),\n",
    "                          activation='relu',\n",
    "                          solver=optimizer,\n",
    "                          learning_rate_init=0.01,\n",
    "                          max_iter=10)\n",
    "    \n",
    "    model.fit(X_train, y_train)\n",
    "    \n",
    "    # Evaluate the model on the test set\n",
    "    accuracy = model.score(X_test, y_test)\n",
    "    \n",
    "    return model, accuracy\n",
    "\n",
    "# Train models with different optimizers\n",
    "sgd_model, sgd_accuracy = train_model('sgd', X_train, y_train, X_test, y_test)\n",
    "\n",
    "\n",
    "# Approximate RMSprop by setting solver to 'adam' with adjusted learning_rate and beta_1\n",
    "adam_model, adam_accuracy = train_model('adam', X_train, y_train, X_test, y_test)\n",
    "rmsprop_model, rmsprop_accuracy = train_model('adam', X_train, y_train, X_test, y_test)\n",
    "\n",
    "# Display results\n",
    "print(\"SGD Optimizer - Accuracy:\", sgd_accuracy)\n",
    "print(\"Adam Optimizer - Accuracy:\", adam_accuracy)\n",
    "print(\"RMSprop (approximated by Adam) - Accuracy:\", rmsprop_accuracy)\n"
   ]
  },
  {
   "cell_type": "code",
   "execution_count": 8,
   "id": "a3c1a9f0-5eba-4e6f-8ddd-f898b0841bad",
   "metadata": {},
   "outputs": [
    {
     "name": "stderr",
     "output_type": "stream",
     "text": [
      "C:\\Users\\Sukirtha\\AppData\\Roaming\\Python\\Python312\\site-packages\\keras\\src\\layers\\core\\dense.py:86: UserWarning: Do not pass an `input_shape`/`input_dim` argument to a layer. When using Sequential models, prefer using an `Input(shape)` object as the first layer in the model instead.\n",
      "  super().__init__(activity_regularizer=activity_regularizer, **kwargs)\n"
     ]
    },
    {
     "name": "stdout",
     "output_type": "stream",
     "text": [
      "\u001b[1m1/1\u001b[0m \u001b[32m━━━━━━━━━━━━━━━━━━━━\u001b[0m\u001b[37m\u001b[0m \u001b[1m0s\u001b[0m 25ms/step - accuracy: 0.8667 - loss: 0.5486\n",
      "\u001b[1m1/1\u001b[0m \u001b[32m━━━━━━━━━━━━━━━━━━━━\u001b[0m\u001b[37m\u001b[0m \u001b[1m0s\u001b[0m 27ms/step - accuracy: 0.7000 - loss: 0.7953\n",
      "\u001b[1m1/1\u001b[0m \u001b[32m━━━━━━━━━━━━━━━━━━━━\u001b[0m\u001b[37m\u001b[0m \u001b[1m0s\u001b[0m 30ms/step - accuracy: 0.8667 - loss: 0.5846\n",
      "\u001b[1m1/1\u001b[0m \u001b[32m━━━━━━━━━━━━━━━━━━━━\u001b[0m\u001b[37m\u001b[0m \u001b[1m0s\u001b[0m 23ms/step - accuracy: 0.9000 - loss: 0.5825\n",
      "SGD Optimizer - Accuracy: 0.8666666746139526\n",
      "Adagrad Optimizer - Accuracy: 0.699999988079071\n",
      "RMSprop Optimizer - Accuracy: 0.8666666746139526\n",
      "Adam Optimizer - Accuracy: 0.8999999761581421\n"
     ]
    }
   ],
   "source": [
    "import tensorflow as tf\n",
    "from sklearn.datasets import load_iris\n",
    "from sklearn.model_selection import train_test_split\n",
    "from sklearn.preprocessing import StandardScaler\n",
    "from sklearn.metrics import accuracy_score\n",
    "\n",
    "# Load the Iris dataset\n",
    "iris = load_iris()\n",
    "X, y = iris.data, iris.target\n",
    "\n",
    "# Standardize the input features\n",
    "scaler = StandardScaler()\n",
    "X = scaler.fit_transform(X)\n",
    "\n",
    "# Split the dataset into training and testing sets\n",
    "X_train, X_test, y_train, y_test = train_test_split(X, y, test_size=0.2, random_state=42)\n",
    "\n",
    "# Define a function to create and train a model with a given optimizer\n",
    "def train_model(optimizer, X_train, y_train, X_test, y_test):\n",
    "    model = tf.keras.Sequential([\n",
    "        tf.keras.layers.Dense(64, input_dim=4, activation='relu'),\n",
    "        tf.keras.layers.Dense(32, activation='relu'),\n",
    "        tf.keras.layers.Dense(3, activation='softmax')  # for multiclass classification\n",
    "    ])\n",
    "\n",
    "    model.compile(loss='sparse_categorical_crossentropy', optimizer=optimizer, metrics=['accuracy'])\n",
    "\n",
    "    model.fit(X_train, y_train, epochs=5, batch_size=32, validation_data=(X_test, y_test), verbose=0)\n",
    "    \n",
    "    # Evaluate the model on the test set\n",
    "    _, accuracy = model.evaluate(X_test, y_test)\n",
    "    \n",
    "    return model, accuracy\n",
    "\n",
    "# Train models with different optimizers\n",
    "sgd_model, sgd_accuracy = train_model(tf.keras.optimizers.SGD(learning_rate=0.01, momentum=0.9), X_train, y_train, X_test, y_test)\n",
    "adagrad_model, adagrad_accuracy = train_model(tf.keras.optimizers.Adagrad(learning_rate=0.01), X_train, y_train, X_test, y_test)\n",
    "rmsprop_model, rmsprop_accuracy = train_model(tf.keras.optimizers.RMSprop(learning_rate=0.001, rho=0.9), X_train, y_train, X_test, y_test)\n",
    "adam_model, adam_accuracy = train_model(tf.keras.optimizers.Adam(learning_rate=0.001, beta_1=0.9, beta_2=0.999), X_train, y_train, X_test, y_test)\n",
    "\n",
    "\n",
    "# Display results\n",
    "print(\"SGD Optimizer - Accuracy:\", sgd_accuracy)\n",
    "print(\"Adagrad Optimizer - Accuracy:\", adagrad_accuracy)\n",
    "print(\"RMSprop Optimizer - Accuracy:\", rmsprop_accuracy)\n",
    "print(\"Adam Optimizer - Accuracy:\", adam_accuracy)"
   ]
  },
  {
   "cell_type": "code",
   "execution_count": null,
   "id": "035229dc-acba-4b52-bc8f-b5ac5107561f",
   "metadata": {},
   "outputs": [],
   "source": []
  }
 ],
 "metadata": {
  "kernelspec": {
   "display_name": "Python 3 (ipykernel)",
   "language": "python",
   "name": "python3"
  },
  "language_info": {
   "codemirror_mode": {
    "name": "ipython",
    "version": 3
   },
   "file_extension": ".py",
   "mimetype": "text/x-python",
   "name": "python",
   "nbconvert_exporter": "python",
   "pygments_lexer": "ipython3",
   "version": "3.12.1"
  }
 },
 "nbformat": 4,
 "nbformat_minor": 5
}
